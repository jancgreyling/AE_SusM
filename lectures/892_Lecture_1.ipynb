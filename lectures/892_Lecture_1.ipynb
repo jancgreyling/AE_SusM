{
  "cells": [
    {
      "cell_type": "markdown",
      "metadata": {
        "id": "YKvOKMAvK-34"
      },
      "source": [
        "# Week 1: Introduction to Python: Google Colab and Python Basics\n"
      ]
    },
    {
      "cell_type": "markdown",
      "metadata": {
        "id": "Kb-b_CxGrs7X"
      },
      "source": [
        "---\n",
        "\n",
        "# Google Colab, Jupyter Notebooks, and Markdown\n"
      ]
    },
    {
      "cell_type": "markdown",
      "metadata": {
        "id": "vMV-SBz23hvg"
      },
      "source": [
        "## Google Colab\n",
        "\n",
        "**Google Colab** (short for Colaboratory) is a cloud-based platform that provides an environment to write and execute Python code. It is built on top of Jupyter Notebooks and offers a similar interface.\n",
        "\n",
        "- **Free Access to GPUs**: One of Colab's standout features is its free GPU access which is beneficial for resource-intensive tasks such as deep learning.\n",
        "  \n",
        "- **No Setup Required**: Users can run Python code directly in their browser without any setup.\n",
        "\n",
        "- **Easy Sharing**: Notebooks can be shared just like Google Docs or Sheets. You can also comment on any part of the notebook.\n",
        "\n",
        "- **Integration with Google Drive**: It saves your work directly to your Google Drive, can be shared with others, and accessed from any device."
      ]
    },
    {
      "cell_type": "markdown",
      "metadata": {
        "id": "Np7yukhB3mgU"
      },
      "source": [
        "\n",
        "## Jupyter Notebooks\n",
        "\n",
        "**Jupyter Notebook** is an open-source web application that allows you to create and share documents that contain live code, equations, visualizations, and narrative text. Jupyter supports over 40 programming languages, including Python.\n",
        "\n",
        "- **Interactive Output**: Your code can produce rich, interactive outputs such as images, videos, and even interactive graphs.\n",
        "\n",
        "- **Integration with Big Data Tools**: It integrates with big data tools like Apache Spark, making it powerful for handling large datasets.\n",
        "\n",
        "- **Export Options**: You can convert your Jupyter Notebook into various formats such as PDF, Python file, HTML, etc."
      ]
    },
    {
      "cell_type": "markdown",
      "metadata": {
        "id": "ZnJzAO4z3o1X"
      },
      "source": [
        "## Markdown\n",
        "\n",
        "**Markdown** is a lightweight markup language that you can use to add formatting elements to plaintext text documents. It was created to be easy to read and easy to write.\n",
        "\n",
        "Read more here about [Markdown](https://colab.research.google.com/notebooks/markdown_guide.ipynb)\n",
        "\n",
        "In both Google Colab and Jupyter Notebooks, cells can be changed to Markdown to add formatted text, headers, links, lists, and more.\n",
        "\n",
        "**Basic Markdown Syntax**:\n",
        "- Headers:\n",
        "  ```markdown\n",
        "  # This is a header level 1\n",
        "  ## This is a header level 2\n",
        "  ### This is a header level 3\n",
        "  ```\n",
        "\n",
        "- Emphasis:\n",
        "  ```markdown\n",
        "  *italic* or _italic_\n",
        "  **bold** or __bold__\n",
        "  ```\n",
        "\n",
        "- Lists:\n",
        "  ```markdown\n",
        "  - Item 1\n",
        "  - Item 2\n",
        "   - Item 2.1\n",
        "  ```\n",
        "\n",
        "  or\n",
        "\n",
        "  ```markdown\n",
        "  1. First item\n",
        "  2. Second item\n",
        "  ```\n",
        "\n",
        "- Links:\n",
        "  ```markdown\n",
        "  [Google](https://www.google.com)\n",
        "  ```\n",
        "\n",
        "- Images:\n",
        "  ```markdown\n",
        "  ![Alt text](URL_to_image)\n",
        "  ```\n",
        "\n",
        "- Code:\n",
        "  Use single back-ticks (`) for inline code and triple back-ticks (```) for blocks of code.\n",
        "\n",
        "- Blockquotes:\n",
        "  ```markdown\n",
        "  > This is a blockquote.\n",
        "  ```"
      ]
    },
    {
      "cell_type": "markdown",
      "metadata": {
        "id": "y_0OCTz2Q9AH"
      },
      "source": [
        "---\n",
        "# Introduction to Python\n",
        "\n",
        "Python, in the modern era of data-driven research, has emerged as one of the most preferred tools for data analysis, simulation, and modeling. Its versatility, combined with a vast array of libraries (modules), offers a robust platform for graduate-level research in numerous disciplines.\n"
      ]
    },
    {
      "cell_type": "markdown",
      "metadata": {
        "id": "q80azI7nRFOR"
      },
      "source": [
        "\n",
        "## A Brief History of Python\n",
        "- Created by Guido van Rossum and first released in 1991.\n",
        "- Designed for readability and ease of use with its distinct use of whitespace and straightforward syntax.\n",
        "- Rapidly adopted in scientific computing and data science due to extensive libraries and community support.\n"
      ]
    },
    {
      "cell_type": "markdown",
      "metadata": {
        "id": "lLQ-gvYQRLFo"
      },
      "source": [
        "\n",
        "## Advantages of using Python in Policy analysis and data science\n",
        "1. **Versatility**: Python is a general-purpose language, which means it can be used for web development, automation, scientific modeling, and more, in addition to data analysis.\n",
        "2. **Extensive Libraries**: Modules like Pandas, NumPy, and SciPy provide ready-to-use functions for complex mathematical operations essential in policy analysis.\n",
        "3. **Open-Source Nature**: Being open-source, Python encourages collaboration. Researchers and professionals worldwide contribute to its expanding set of libraries.\n",
        "4. **Interactivity**: Tools like Jupyter Notebooks and Google Colab offer an interactive environment that's excellent for experimentation, visualization, and sharing of insights.\n",
        "5. **Integration Capabilities**: Python can easily integrate with other languages like C, Java, and FORTRAN, providing more extensive functionality when needed.\n",
        "6. **Strong Community Support**: Challenges faced during research or analysis can often be addressed with help from the global Python community through forums, webinars, and conferences."
      ]
    },
    {
      "cell_type": "markdown",
      "metadata": {
        "id": "vy0RTZJMRN1Y"
      },
      "source": [
        "\n",
        "\n",
        "## Disadvantages of using Python in Policy analysis and data science\n",
        "\n",
        "1. **Performance**: Being an interpreted language, Python might be slower than compiled languages like C++ or Java. However, for most data analysis tasks, this difference is often negligible.\n",
        "2. **Memory Consumption**: Python's simplicity sometimes leads to it consuming more memory, which can be a concern with extremely large datasets.\n",
        "3. **Learning Curve for Advanced Libraries**: While Python itself is easy to pick up, some libraries essential for advanced data analysis might have a steep learning curve.\n",
        "4. **Multithreading Limitations**: The Global Interpreter Lock (GIL) in Python means that only one thread can be executed at a time, potentially limiting tasks that require multi-threading.\n",
        "5. **Maturity of Some Libraries**: While popular libraries like Pandas and NumPy are well-maintained, some niche libraries might lack comprehensive documentation or updates.\n",
        "\n",
        "\n",
        "\n"
      ]
    },
    {
      "cell_type": "markdown",
      "metadata": {
        "id": "N1ykzRroNw88"
      },
      "source": [
        "---\n",
        "# Python Basics"
      ]
    },
    {
      "cell_type": "markdown",
      "metadata": {
        "id": "KUnsGAuaQvyu"
      },
      "source": [
        "\n",
        "## Variable definition & types\n",
        "\n",
        "In Python, variables are dynamically typed, meaning you don't need to declare their type explicitly.\n"
      ]
    },
    {
      "cell_type": "code",
      "execution_count": null,
      "metadata": {
        "id": "lHEQ-YwmMnX2"
      },
      "outputs": [],
      "source": [
        "# String type variable\n",
        "class_topic = \"Agricultural Policy Analysis\"\n",
        "# Integer type variable\n",
        "participants = 6\n",
        "# Floating point variable\n",
        "average_duration_hours = 2.5\n",
        "# Boolean\n",
        "is_complicated = True\n",
        "# List type variable: Contains multiple items in an ordered sequence\n",
        "topics_covered = [\"Python basics\", \"Git\", \"Policy analysis\", \"Time series\"]\n",
        "next_year_participants = participants + 3"
      ]
    },
    {
      "cell_type": "markdown",
      "metadata": {
        "id": "QoRxkcitOP94"
      },
      "source": [
        "Now that we have defined our variables lets use them:"
      ]
    },
    {
      "cell_type": "code",
      "execution_count": null,
      "metadata": {
        "colab": {
          "base_uri": "https://localhost:8080/"
        },
        "id": "7LNn_kwdN8SG",
        "outputId": "7c047d9b-51fe-4a58-a167-b6bf3acb6910"
      },
      "outputs": [
        {
          "name": "stdout",
          "output_type": "stream",
          "text": [
            "The topic of this class is: Agricultural Policy Analysis\n",
            "Number of participants: 6\n",
            "Expected participants next year: 9\n",
            "Average duration of each class (in hours): 2.5\n",
            "Topics to be covered include: Python basics, Git, Policy analysis, Time series\n",
            "\n",
            "In the research topic 'Agricultural Policy Analysis', there are currently 6 participants. \n",
            "We expect this number to rise to {next_year_participants} next year.\n"
          ]
        }
      ],
      "source": [
        "# Printing variables\n",
        "print(\"The topic of this class is:\", class_topic)\n",
        "print(\"Number of participants:\", participants)\n",
        "print(\"Expected participants next year:\", next_year_participants)\n",
        "print(\"Average duration of each class (in hours):\", average_duration_hours)\n",
        "print(\"Topics to be covered include:\", ', '.join(topics_covered))\n",
        "print(\"\")\n",
        "# String formatting: A more advanced way of printing\n",
        "print(f\"In the research topic '{class_topic}', there are currently {participants} participants. \\n\"\n",
        "\"We expect this number to rise to {next_year_participants} next year.\")"
      ]
    },
    {
      "cell_type": "code",
      "execution_count": null,
      "metadata": {
        "colab": {
          "base_uri": "https://localhost:8080/"
        },
        "id": "-QxVM7v5GFQI",
        "outputId": "b3f06429-0ff5-448d-c7d7-37e152004f76"
      },
      "outputs": [
        {
          "name": "stdout",
          "output_type": "stream",
          "text": [
            "['Python basics', 'Git', 'Policy analysis', 'Time series']\n"
          ]
        }
      ],
      "source": [
        "print(topics_covered)"
      ]
    },
    {
      "cell_type": "markdown",
      "metadata": {
        "id": "lUqm7xD95mEC"
      },
      "source": [
        "\n",
        "## What is 0-based Indexing?\n",
        "\n",
        "In Python, sequences (like strings, lists, and tuples) use 0-based indexing. This means that the first element is accessed with the index `0`, the second element with index `1`, the third with index `2`, and so on.\n",
        "\n",
        "### Why 0-based Indexing?\n",
        "\n",
        "There isn't a universally accepted reason for why many languages use 0-based indexing, but there are a few logical reasons often cited:\n",
        "\n",
        "1. **Historical Reason**: In some early programming, addressing memory locations directly was common, and the first location in memory was often denoted with a `0`.\n",
        "\n",
        "2. **Mathematical Convenience**: When calculating offsets, 0-based indexing can simplify math. If the first element starts at 0, then an element at index `n` would be found `n` units away. This straightforward offset system is mathematically neat.\n",
        "\n",
        "3. **Inclusive Range Operations**: When slicing in Python (and other 0-indexed languages), the beginning index is inclusive, and the end index is exclusive. This design often makes operations more straightforward. For example, the slice `[0:3]` will give elements at indices `0, 1, and 2`.\n",
        "\n",
        "### Examples and Illustration:\n",
        "\n",
        "Consider a list:\n",
        "```python\n",
        "fruits = [\"apple\", \"banana\", \"cherry\", \"date\"]\n",
        "```\n",
        "\n",
        "Visualizing the indexing:\n",
        "```\n",
        "  fruits    apple     banana    cherry     date\n",
        "  index       0          1          2         3\n",
        "```\n",
        "\n",
        "- To access \"apple\", you'd write `fruits[0]`.\n",
        "- To access \"banana\", you'd write `fruits[1]`.\n",
        "- And so on.\n",
        "\n",
        "### Common Confusions and Errors:\n",
        "\n",
        "1. **Off-by-One Errors**: One of the most common mistakes, especially for beginners, is attempting to access the nth element using `n` as the index, rather than `n-1`. For instance, trying to access the third item in our `fruits` list using `fruits[3]` would give \"date\" instead of \"cherry\".\n",
        "\n",
        "2. **Negative Indexing**: Python also supports negative indexing, which might seem counterintuitive at first but is quite powerful. An index of `-1` refers to the last element, `-2` refers to the second-to-last, and so on. In our example, `fruits[-1]` would return \"date\"."
      ]
    },
    {
      "cell_type": "markdown",
      "metadata": {
        "id": "g0fzbW4kq3HK"
      },
      "source": [
        "\n",
        "## Lists in Python\n",
        "\n",
        "In Python, a list is an ordered collection of items. These items can be of any type, and a single list can contain items of mixed types. Lists are defined by enclosing the items (elements) in square brackets `[]`.\n",
        "\n",
        "### Creating a List\n",
        "\n",
        "```python\n",
        "# A list of integers\n",
        "numbers = [1, 2, 3, 4, 5]\n",
        "\n",
        "# A list of strings\n",
        "fruits = [\"apple\", \"banana\", \"cherry\"]\n",
        "\n",
        "# A mixed list\n",
        "mixed = [1, \"apple\", 3.5, True]\n",
        "```\n",
        "\n",
        "### Accessing List Elements\n",
        "\n",
        "Python lists are zero-indexed, which means the first element is accessed with `0`, the second with `1`, and so on."
      ]
    },
    {
      "cell_type": "code",
      "execution_count": null,
      "metadata": {
        "colab": {
          "base_uri": "https://localhost:8080/"
        },
        "id": "0Rx9YfYB-0bB",
        "outputId": "8c07fb00-f323-4e5b-fb84-83c9cb1971c6"
      },
      "outputs": [
        {
          "name": "stdout",
          "output_type": "stream",
          "text": [
            "apple\n",
            "banana\n"
          ]
        }
      ],
      "source": [
        "fruits = [\"apple\", \"banana\", \"cherry\"]\n",
        "\n",
        "# Accessing the first element\n",
        "print(fruits[0])  # Outputs: apple\n",
        "\n",
        "# Accessing the last element\n",
        "print(fruits[-1])  # Outputs: cherry"
      ]
    },
    {
      "cell_type": "markdown",
      "metadata": {
        "id": "YbXk-g4S-wRG"
      },
      "source": [
        "\n",
        "### Modifying a List\n",
        "\n",
        "Lists are mutable, meaning their elements can be changed after the list is created.\n",
        "\n",
        "```python\n",
        "fruits = [\"apple\", \"banana\", \"cherry\"]\n",
        "fruits[1] = \"blueberry\"\n",
        "print(fruits)  # Outputs: ['apple', 'blueberry', 'cherry']\n",
        "```\n",
        "\n",
        "### List Operations\n",
        "\n",
        "- **Appending to a list**:\n",
        "  ```python\n",
        "  fruits.append(\"date\")\n",
        "  ```\n",
        "After this operation, the \"date\" will be added to the end of the fruits list.\n",
        "\n",
        "- **Inserting into a list**:\n",
        "  ```python\n",
        "  fruits.insert(1, \"kiwi\")\n",
        "  ```\n",
        "  With this, \"kiwi\" will be added to the fruits list at position 1, pushing all subsequent elements one position further.\n",
        "\n",
        "- **Removing from a list**:\n",
        "  ```python\n",
        "  fruits.remove(\"apple\")\n",
        "  ```\n",
        "After this operation, the first occurrence of \"apple\" will be removed from the fruits list.\n",
        "\n",
        "- **Popping elements**:\n",
        "  ```python\n",
        "  last_fruit = fruits.pop()\n",
        "  ```\n",
        "In this case, the last item of the fruits list will be removed and its value will be stored in the last_fruit variable. If you wanted to pop an element from a specific index, you could use fruits.pop(index).\n",
        "\n",
        "### Slicing Lists\n",
        "\n",
        "You can extract portions of a list using slicing.\n",
        "\n",
        "\n"
      ]
    },
    {
      "cell_type": "code",
      "execution_count": null,
      "metadata": {
        "colab": {
          "base_uri": "https://localhost:8080/"
        },
        "id": "rJVd0izw_QZ3",
        "outputId": "3cf4fb33-b5b1-420b-de0c-f8decf738dfd"
      },
      "outputs": [
        {
          "name": "stdout",
          "output_type": "stream",
          "text": [
            "[0, 1, 2]\n",
            "[0, 1]\n"
          ]
        }
      ],
      "source": [
        "numbers = [0, 1, 2, 3, 4, 5, 6]\n",
        "\n",
        "# Get the first three elements\n",
        "first_three = numbers[0:3]\n",
        "print(first_three)  # Outputs: [0, 1, 2]\n",
        "\n",
        "# Get elements from the third to the end of the list\n",
        "from_third = numbers[2:]\n",
        "print(from_third)  # Outputs: [2, 3, 4, 5, 6]"
      ]
    },
    {
      "cell_type": "markdown",
      "metadata": {
        "id": "SzNTN5Vg_K7Q"
      },
      "source": [
        "### List Methods\n",
        "\n",
        "Lists in Python have a variety of useful methods:\n",
        "\n",
        "- `append()`: Adds an item to the end of the list.\n",
        "- `extend()`: Appends the contents of a sequence to the list.\n",
        "- `insert()`: Inserts an item at a given position.\n",
        "- `remove()`: Removes the first occurrence of a value.\n",
        "- `pop()`: Removes and returns the item at a given position.\n",
        "- `index()`: Returns the index of the first matched item.\n",
        "- `count()`: Returns the number of times an item appears in the list.\n",
        "- `sort()`: Sorts the items.\n",
        "- `reverse()`: Reverses the order of items.\n",
        "\n",
        "### List Comprehensions (see subsequent lectures)"
      ]
    },
    {
      "cell_type": "markdown",
      "metadata": {
        "id": "Kvjsihn9ifAY"
      },
      "source": []
    },
    {
      "cell_type": "markdown",
      "metadata": {
        "id": "E9H7jB_RR1YX"
      },
      "source": [
        "## Explanation of `.join()`\n",
        "\n",
        "1. **Basic Definition**:\n",
        "   The `.join()` method takes an iterable (like a list or tuple) of strings and concatenates its items into a single string using the string on which it was called as a delimiter.\n",
        "\n",
        "2. **Example**:\n",
        "\n",
        "   ```python\n",
        "   delimiter = \", \"\n",
        "   words = [\"apple\", \"banana\", \"cherry\"]\n",
        "   result = delimiter.join(words)\n",
        "   print(result)  # Outputs: apple, banana, cherry\n",
        "   ```\n",
        "\n",
        "   In the example above, the string `\", \"` is our delimiter, and the `.join()` method is called on this delimiter. The elements of the `words` list are then concatenated into a single string with our delimiter between each item.\n",
        "\n",
        "3. **Usage in your code**:\n",
        "   \n",
        "   When you have the line:\n",
        "   ```python\n",
        "   topics_covered = [\"Crop Analysis\", \"Soil Health\", \"Irrigation Methods\"]\n",
        "   print(\"Topics to be covered include:\", ', '.join(topics_covered))\n",
        "   ```\n",
        "   \n",
        "   Here, `', '.join(topics_covered)` concatenates the strings in the `topics_covered` list into a single string. Each string in the list is separated by the delimiter `', '`. Thus, it produces the output:\n",
        "   ```\n",
        "   Topics to be covered include: Crop Analysis, Soil Health, Irrigation Methods\n",
        "   ```\n",
        "\n",
        "4. **Benefits**:\n",
        "\n",
        "   Using `.join()` is often preferred over string concatenation using the `+` operator because:\n",
        "\n",
        "   - It's more efficient, especially for joining a large number of strings.\n",
        "   - It leads to cleaner and more readable code, especially when dealing with multiple items.\n"
      ]
    },
    {
      "cell_type": "markdown",
      "metadata": {
        "id": "LJIZVDZ6ORSu"
      },
      "source": [
        "## What is an f-string?\n",
        "\n",
        "In Python, starting from version 3.6, f-strings, also known as \"formatted string literals,\" were introduced as a new way to embed expressions inside string literals. The letter \"f\" preceding a string denotes that it's an f-string.\n",
        "\n",
        "### Why use f-strings?\n",
        "\n",
        "F-strings provide a concise and convenient way to embed Python expressions inside string literals for formatting. They allow you to incorporate variables or expressions directly into strings without explicitly converting them or using concatenation.\n",
        "\n",
        "### How does it work?\n",
        "\n",
        "1. **Basic Usage**:\n",
        "   An f-string is created by prefixing the string with the letter `f` or `F`. Inside this string, you can include variables or expressions within `{}` braces.\n",
        "   \n",
        "   ```python\n",
        "   name = \"Alice\"\n",
        "   age = 25\n",
        "   print(f\"{name} is {age} years old.\")\n",
        "   ```\n",
        "\n",
        "   Output:\n",
        "   ```\n",
        "   Alice is 25 years old.\n",
        "   ```\n",
        "\n",
        "2. **Expressions within f-strings**:\n",
        "   You can perform operations or call functions within the curly braces.\n",
        "   \n",
        "   ```python\n",
        "   x = 5\n",
        "   y = 10\n",
        "   print(f\"The sum of {x} and {y} is {x+y}.\")\n",
        "   ```\n",
        "\n",
        "   Output:\n",
        "   ```\n",
        "   The sum of 5 and 10 is 15.\n",
        "   ```\n",
        "\n",
        "3. **Specifying Formats**:\n",
        "   You can format the data inside the curly braces. For instance, formatting a number to 2 decimal places:\n",
        "   \n",
        "   ```python\n",
        "   pi = 3.14159265359\n",
        "   print(f\"The value of pi rounded to two decimal places is {pi:.2f}.\")\n",
        "   ```\n",
        "\n",
        "   Output:\n",
        "   ```\n",
        "   The value of pi rounded to two decimal places is 3.14.\n",
        "   ```\n",
        "\n",
        "---"
      ]
    },
    {
      "cell_type": "markdown",
      "metadata": {
        "id": "wM9xELC0iA5f"
      },
      "source": [
        "## What are Booleans?\n",
        "\n",
        "Booleans represent one of two values: `True` or `False`. Named after George Boole, a 19th-century mathematician who introduced Boolean algebra, they provide a way to represent truth values (true or false) in logic and computing.\n",
        "\n",
        "### Basic Usage in Python:\n",
        "\n",
        "In Python, the boolean type is represented by two keywords: `True` and `False` (note the capitalization).\n",
        "\n",
        "```python\n",
        "isRaining = False\n",
        "isSunny = True\n",
        "```\n",
        "\n",
        "### Operations with Booleans:\n",
        "\n",
        "1. **Comparison Operators**: These return Boolean values.\n",
        "   - `==`: Equal to\n",
        "   - `!=`: Not equal to\n",
        "   - `<`: Less than\n",
        "   - `<=`: Less than or equal to\n",
        "   - `>`: Greater than\n",
        "   - `>=`: Greater than or equal to\n",
        "\n",
        "   Example:\n",
        "   ```python\n",
        "   x = 5\n",
        "   y = 10\n",
        "   print(x > y)  # Outputs: False\n",
        "   ```\n",
        "\n",
        "2. **Logical Operators**: These operate on Boolean values and return Boolean results.\n",
        "   - `and`: Returns `True` if both operands are `True`.\n",
        "   - `or`: Returns `True` if at least one of the operands is `True`.\n",
        "   - `not`: Returns the opposite of the operand.\n",
        "\n",
        "   Example:\n",
        "   ```python\n",
        "   isWeekend = True\n",
        "   isHoliday = False\n",
        "   print(isWeekend and isHoliday)  # Outputs: False\n",
        "   print(isWeekend or isHoliday)   # Outputs: True\n",
        "   print(not isWeekend)            # Outputs: False\n",
        "   ```\n",
        "---"
      ]
    },
    {
      "cell_type": "markdown",
      "metadata": {},
      "source": [
        "## Logical statements\n",
        "\n",
        "## What is it?\n",
        "\n",
        "Logical statements in Python are essential for decision-making in your code.  The primary logical statements are `if`, `elif`, and `else`. These statements help in conditionally executing code depending on the result of a logical expression.\n",
        "\n",
        "## How does ut work?\n",
        "\n",
        "If statements evaluate an expression to yield a Boolean value: `True` or `False` and then takes an action based on the result. The syntax for an if statement is:\n",
        "\n",
        "Lets break it down:\n",
        "\n",
        "### 1. Boolean Values\n",
        "\n",
        "In Python, the two Boolean values are `True` and `False`. They are used to represent the truthiness or falseness of an expression. Remember that they are case-sensitive."
      ]
    },
    {
      "cell_type": "code",
      "execution_count": null,
      "metadata": {},
      "outputs": [],
      "source": [
        "is_happy = True\n",
        "is_sad = False\n",
        "print(is_happy)"
      ]
    },
    {
      "cell_type": "markdown",
      "metadata": {},
      "source": [
        "### 2. Comparison Operators\n",
        "\n",
        "Comparison operators evaluate expressions to produce a Boolean result. The most common ones include:\n",
        "\n",
        "- `==`: Equal to\n",
        "- `!=`: Not equal to\n",
        "- `<`: Less than\n",
        "- `>`: Greater than\n",
        "- `<=`: Less than or equal to\n",
        "- `>=`: Greater than or equal to"
      ]
    },
    {
      "cell_type": "code",
      "execution_count": null,
      "metadata": {},
      "outputs": [],
      "source": [
        "x = 5\n",
        "y = 10\n",
        "result = x < y\n",
        "print(result)"
      ]
    },
    {
      "cell_type": "markdown",
      "metadata": {},
      "source": [
        "### 3. Logical Operators\n",
        "\n",
        "Python includes three main logical operators:\n",
        "\n",
        "- `and`: Both conditions must be true\n",
        "- `or`: At least one condition must be true\n",
        "- `not`: Inverts the Boolean value"
      ]
    },
    {
      "cell_type": "code",
      "execution_count": null,
      "metadata": {},
      "outputs": [],
      "source": [
        "is_tall = True\n",
        "is_smart = False\n",
        "result_and = is_tall and is_smart\n",
        "print(result_and)\n",
        "result_or = is_tall or is_smart\n",
        "print(result_or)\n",
        "result_not = not is_smart\n",
        "print(result_not)"
      ]
    },
    {
      "cell_type": "markdown",
      "metadata": {},
      "source": [
        "### 4. `if` Statement\n",
        "\n",
        "The `if` statement runs a block of code only if the condition is true. Note the indentation. The code that is indented after the `if` statement is the code that will be executed if the condition is true. If the condition is false, the code will not be executed."
      ]
    },
    {
      "cell_type": "code",
      "execution_count": null,
      "metadata": {},
      "outputs": [],
      "source": [
        "if is_tall:\n",
        "    print(\"You are tall!\")"
      ]
    },
    {
      "cell_type": "markdown",
      "metadata": {},
      "source": [
        "### 5. `elif` and `else` Statements\n",
        "\n",
        "The `elif` (short for \"else if\") and `else` statements are used for handling additional conditions."
      ]
    },
    {
      "cell_type": "code",
      "execution_count": null,
      "metadata": {},
      "outputs": [],
      "source": [
        "if is_tall and is_smart:\n",
        "    print(\"You are tall and smart!\")\n",
        "elif is_smart:\n",
        "    print(\"You are smart!\")\n",
        "elif is_tall:\n",
        "    print(\"You are tall!\")\n",
        "else:\n",
        "    print(\"You are unique!\")\n"
      ]
    },
    {
      "cell_type": "markdown",
      "metadata": {},
      "source": [
        "## 6. Nested Conditional Statements\n",
        "\n",
        "You can nest `if` statements within other `if` statements for more complex conditions. Note the indentation. The code that is indented after the `if` statement is the code that will be executed if the condition is true. If the condition is false, the code will not be executed."
      ]
    },
    {
      "cell_type": "code",
      "execution_count": null,
      "metadata": {},
      "outputs": [],
      "source": [
        "if is_tall:\n",
        "    if is_smart:\n",
        "        print(\"You are tall and smart!\")\n",
        "    else:\n",
        "        print(\"You are tall!\")"
      ]
    },
    {
      "cell_type": "markdown",
      "metadata": {
        "id": "vjm75sCLi7Er"
      },
      "source": [
        "---\n",
        "# Python Math"
      ]
    },
    {
      "cell_type": "markdown",
      "metadata": {
        "id": "lmL6AvLXi9K-"
      },
      "source": [
        "## Basic Math\n",
        "\n",
        "Here is a couple of examples of doing basic math in Python.\n",
        "\n",
        "1. **Addition**:\n",
        "```python\n",
        "a = 5\n",
        "b = 3\n",
        "sum_ = a + b\n",
        "print(sum_)  # Outputs: 8\n",
        "```\n",
        "\n",
        "2. **Subtraction**:\n",
        "```python\n",
        "difference = a - b\n",
        "print(difference)  # Outputs: 2\n",
        "```\n",
        "\n",
        "3. **Multiplication**:\n",
        "```python\n",
        "product = a * b\n",
        "print(product)  # Outputs: 15\n",
        "```\n",
        "\n",
        "4. **Division**:\n",
        "```python\n",
        "quotient = a / b\n",
        "print(quotient)  # Outputs: 1.6666666666666667\n",
        "```\n",
        "\n",
        "5. **Floor Division (Integer Division)**:\n",
        "```python\n",
        "floor_quotient = a // b\n",
        "print(floor_quotient)  # Outputs: 1 (because it rounds down)\n",
        "```\n",
        "\n",
        "8. **Exponentiation**:\n",
        "```python\n",
        "squared = a**2\n",
        "print(squared)  # Outputs: 25\n",
        "```\n"
      ]
    },
    {
      "cell_type": "markdown",
      "metadata": {
        "id": "3yQLaTU2llxh"
      },
      "source": [
        "\n",
        "## Advanced Math: NumPy\n",
        "\n",
        "NumPy, which stands for Numerical Python, is a foundational package for numerical computations in Python. It provides support for arrays (including matrices) and offers a rich set of mathematical functions to operate on these arrays.\n",
        "\n",
        "```python\n",
        "import numpy as np\n",
        "```\n",
        "\n",
        "### Array Creation\n",
        "\n",
        "You can create a NumPy array from a regular Python list or tuple using the `array` function.\n",
        "\n"
      ]
    },
    {
      "cell_type": "code",
      "execution_count": null,
      "metadata": {
        "colab": {
          "base_uri": "https://localhost:8080/"
        },
        "id": "zcvweyQ1m_8j",
        "outputId": "87d58ac4-551a-46e7-f691-cbede1183a15"
      },
      "outputs": [
        {
          "name": "stdout",
          "output_type": "stream",
          "text": [
            "[1 2 3 4 5]\n"
          ]
        }
      ],
      "source": [
        "import numpy as np\n",
        "\n",
        "arr = np.array([1, 2, 3, 4, 5])\n",
        "print(arr)"
      ]
    },
    {
      "cell_type": "markdown",
      "metadata": {
        "id": "R-XoZDGBm6ri"
      },
      "source": [
        "\n",
        "\n",
        "### Basic Mathematical Operations\n",
        "\n",
        "With NumPy, mathematical operations on arrays become straightforward. For example:"
      ]
    },
    {
      "cell_type": "code",
      "execution_count": null,
      "metadata": {
        "colab": {
          "base_uri": "https://localhost:8080/"
        },
        "id": "FT4mdvRFnXe7",
        "outputId": "f5b11fca-5428-4d88-d85b-d0517426ebe6"
      },
      "outputs": [
        {
          "name": "stdout",
          "output_type": "stream",
          "text": [
            "[5 7 9]\n",
            "[ 4 10 18]\n"
          ]
        }
      ],
      "source": [
        "a = np.array([1, 2, 3])\n",
        "b = np.array([4, 5, 6])\n",
        "\n",
        "# Addition\n",
        "print(a + b)\n",
        "\n",
        "# Multiplication\n",
        "print(a * b)"
      ]
    },
    {
      "cell_type": "markdown",
      "metadata": {
        "id": "dUWiEfacnUol"
      },
      "source": [
        "### Aggregation Functions\n",
        "\n",
        "NumPy provides several aggregation functions.\n",
        "\n"
      ]
    },
    {
      "cell_type": "code",
      "execution_count": null,
      "metadata": {
        "colab": {
          "base_uri": "https://localhost:8080/"
        },
        "id": "DKP9JUzinkPn",
        "outputId": "721191de-3b7a-42d8-d63c-69d4be3a1373"
      },
      "outputs": [
        {
          "name": "stdout",
          "output_type": "stream",
          "text": [
            "8\n",
            "4.4\n"
          ]
        }
      ],
      "source": [
        "c = np.array([2, 8, 1, 5, 6])\n",
        "\n",
        "# Find the maximum\n",
        "print(np.max(c))\n",
        "\n",
        "# Find the average\n",
        "print(np.mean(c))"
      ]
    },
    {
      "cell_type": "markdown",
      "metadata": {
        "id": "vM5rbQuvniyv"
      },
      "source": [
        "### Broadcasting\n",
        "\n",
        "NumPy allows for broadcasting, which lets you perform operations on arrays of different shapes.\n",
        "\n"
      ]
    },
    {
      "cell_type": "code",
      "execution_count": null,
      "metadata": {
        "colab": {
          "base_uri": "https://localhost:8080/"
        },
        "id": "aYtR1iWNnsSi",
        "outputId": "7c457e61-2bcc-4872-a418-5ffc218f9309"
      },
      "outputs": [
        {
          "name": "stdout",
          "output_type": "stream",
          "text": [
            "[[2 4]\n",
            " [4 6]]\n"
          ]
        }
      ],
      "source": [
        "d = np.array([[1, 2], [3, 4]])\n",
        "e = np.array([1, 2])\n",
        "\n",
        "print(d + e)"
      ]
    },
    {
      "cell_type": "markdown",
      "metadata": {
        "id": "sv6IjMlOnrI_"
      },
      "source": [
        "\n",
        "\n",
        "### Indexing and Slicing\n",
        "\n",
        "Just like Python lists, you can index and slice NumPy arrays.\n",
        "\n"
      ]
    },
    {
      "cell_type": "code",
      "execution_count": null,
      "metadata": {
        "colab": {
          "base_uri": "https://localhost:8080/"
        },
        "id": "wmRivJyEoLFh",
        "outputId": "abb69161-0058-4c52-c9d5-3f9cb8b627c6"
      },
      "outputs": [
        {
          "name": "stdout",
          "output_type": "stream",
          "text": [
            "2\n",
            "[2 3 4]\n"
          ]
        }
      ],
      "source": [
        "list_of_numbers = p.array(n[0, 1, 2, 3, 4, 5])\n",
        "\n",
        "# Get the element at index 2\n",
        "print(list_of_numbers[2])\n",
        "\n",
        "# Get elements from index 2 to 4\n",
        "print(list_of_numbers[2:5])"
      ]
    },
    {
      "cell_type": "markdown",
      "metadata": {},
      "source": [
        "---\n",
        "\n",
        "## Getting help about functions\n",
        "\n",
        "To get help about a function, you can use the `help` function."
      ]
    },
    {
      "cell_type": "code",
      "execution_count": 6,
      "metadata": {},
      "outputs": [
        {
          "name": "stdout",
          "output_type": "stream",
          "text": [
            "Help on _ArrayFunctionDispatcher in module numpy:\n",
            "\n",
            "mean(a, axis=None, dtype=None, out=None, keepdims=<no value>, *, where=<no value>)\n",
            "    Compute the arithmetic mean along the specified axis.\n",
            "    \n",
            "    Returns the average of the array elements.  The average is taken over\n",
            "    the flattened array by default, otherwise over the specified axis.\n",
            "    `float64` intermediate and return values are used for integer inputs.\n",
            "    \n",
            "    Parameters\n",
            "    ----------\n",
            "    a : array_like\n",
            "        Array containing numbers whose mean is desired. If `a` is not an\n",
            "        array, a conversion is attempted.\n",
            "    axis : None or int or tuple of ints, optional\n",
            "        Axis or axes along which the means are computed. The default is to\n",
            "        compute the mean of the flattened array.\n",
            "    \n",
            "        .. versionadded:: 1.7.0\n",
            "    \n",
            "        If this is a tuple of ints, a mean is performed over multiple axes,\n",
            "        instead of a single axis or all the axes as before.\n",
            "    dtype : data-type, optional\n",
            "        Type to use in computing the mean.  For integer inputs, the default\n",
            "        is `float64`; for floating point inputs, it is the same as the\n",
            "        input dtype.\n",
            "    out : ndarray, optional\n",
            "        Alternate output array in which to place the result.  The default\n",
            "        is ``None``; if provided, it must have the same shape as the\n",
            "        expected output, but the type will be cast if necessary.\n",
            "        See :ref:`ufuncs-output-type` for more details.\n",
            "    \n",
            "    keepdims : bool, optional\n",
            "        If this is set to True, the axes which are reduced are left\n",
            "        in the result as dimensions with size one. With this option,\n",
            "        the result will broadcast correctly against the input array.\n",
            "    \n",
            "        If the default value is passed, then `keepdims` will not be\n",
            "        passed through to the `mean` method of sub-classes of\n",
            "        `ndarray`, however any non-default value will be.  If the\n",
            "        sub-class' method does not implement `keepdims` any\n",
            "        exceptions will be raised.\n",
            "    \n",
            "    where : array_like of bool, optional\n",
            "        Elements to include in the mean. See `~numpy.ufunc.reduce` for details.\n",
            "    \n",
            "        .. versionadded:: 1.20.0\n",
            "    \n",
            "    Returns\n",
            "    -------\n",
            "    m : ndarray, see dtype parameter above\n",
            "        If `out=None`, returns a new array containing the mean values,\n",
            "        otherwise a reference to the output array is returned.\n",
            "    \n",
            "    See Also\n",
            "    --------\n",
            "    average : Weighted average\n",
            "    std, var, nanmean, nanstd, nanvar\n",
            "    \n",
            "    Notes\n",
            "    -----\n",
            "    The arithmetic mean is the sum of the elements along the axis divided\n",
            "    by the number of elements.\n",
            "    \n",
            "    Note that for floating-point input, the mean is computed using the\n",
            "    same precision the input has.  Depending on the input data, this can\n",
            "    cause the results to be inaccurate, especially for `float32` (see\n",
            "    example below).  Specifying a higher-precision accumulator using the\n",
            "    `dtype` keyword can alleviate this issue.\n",
            "    \n",
            "    By default, `float16` results are computed using `float32` intermediates\n",
            "    for extra precision.\n",
            "    \n",
            "    Examples\n",
            "    --------\n",
            "    >>> a = np.array([[1, 2], [3, 4]])\n",
            "    >>> np.mean(a)\n",
            "    2.5\n",
            "    >>> np.mean(a, axis=0)\n",
            "    array([2., 3.])\n",
            "    >>> np.mean(a, axis=1)\n",
            "    array([1.5, 3.5])\n",
            "    \n",
            "    In single precision, `mean` can be inaccurate:\n",
            "    \n",
            "    >>> a = np.zeros((2, 512*512), dtype=np.float32)\n",
            "    >>> a[0, :] = 1.0\n",
            "    >>> a[1, :] = 0.1\n",
            "    >>> np.mean(a)\n",
            "    0.54999924\n",
            "    \n",
            "    Computing the mean in float64 is more accurate:\n",
            "    \n",
            "    >>> np.mean(a, dtype=np.float64)\n",
            "    0.55000000074505806 # may vary\n",
            "    \n",
            "    Specifying a where argument:\n",
            "    \n",
            "    >>> a = np.array([[5, 9, 13], [14, 10, 12], [11, 15, 19]])\n",
            "    >>> np.mean(a)\n",
            "    12.0\n",
            "    >>> np.mean(a, where=[[True], [False], [False]])\n",
            "    9.0\n",
            "\n"
          ]
        }
      ],
      "source": [
        "help(np.mean)"
      ]
    },
    {
      "cell_type": "markdown",
      "metadata": {
        "id": "xyx6Rfhtmt2f"
      },
      "source": [
        "---\n",
        "\n",
        "# Tutorial 1\n",
        "\n",
        "Navigate to Google Colab and do the following:\n",
        "\n",
        "- Create a new Jupyter notebook\n",
        "- Rename it to \\<your_name>\\<Lecture_1_Tutorial>\n",
        "- Share with me: jan5020@gmail.com\n",
        "\n",
        "Please use the appropriate Markdown code to structure your tutorial solutions and use codeblocks to generate your answers.\n",
        "\n",
        "1. Please use variables, `print`, f-strings, Booleans and other functions that you have learned to answer the following questions regarding yourself:\n",
        "- Where were you born?\n",
        "- How old are you now?\n",
        "- How old will you be in 5 years?\n",
        "- Create a list that contains your three favorite foods in decreasing order of preference.\n",
        " - Print the list using the `.join()` function.\n",
        " - What is your second favorite food?\n",
        " - What is your first and second favorite food?\n",
        " - Add a fourth favorite food to the list and print the updated list.\n",
        " - Replace your third favorite food with something else\n",
        "\n",
        "2. Given that a = True, b = False, c = True. Evaluate the following:\n",
        "\n",
        "  - a and b\n",
        "  - a or b\n",
        "  - not a\n",
        "  - b or not a\n",
        "  - a and c or not b\n",
        "  - not b and not c\n",
        "  - a and (b or c)\n",
        "\n",
        "3. Given that `x = 12` and `y = 5`, do the following using basic Python math:\n",
        "- What is the sum of x and y?\n",
        "- Calculate the average.\n",
        "- What the solution to x-squared minus y squared?\n",
        "\n",
        "4. Create a array of numbers called `vars_list` that contain the following 10 numbers: 17,30,41,14,39,7,21,7,20,7. Using numpy please answer following:\n",
        "- What is the sum of all of the numbers?\n",
        "- Calculate the mean and median\n",
        "- What is the standard deviation?\n",
        "- Please extract all of the odd numers from the array\n",
        "\n",
        "5. Create a 2x2 matrix and multiply it with another 2x2 matrix using NumPy.\n",
        "\n",
        "\n",
        "\n"
      ]
    },
    {
      "cell_type": "code",
      "execution_count": null,
      "metadata": {
        "id": "vp02fOpumuLV"
      },
      "outputs": [],
      "source": []
    }
  ],
  "metadata": {
    "colab": {
      "authorship_tag": "ABX9TyMs9a3VuOya7i4vnW5ngwkr",
      "include_colab_link": true,
      "provenance": [],
      "toc_visible": true
    },
    "kernelspec": {
      "display_name": "Python 3",
      "name": "python3"
    },
    "language_info": {
      "codemirror_mode": {
        "name": "ipython",
        "version": 3
      },
      "file_extension": ".py",
      "mimetype": "text/x-python",
      "name": "python",
      "nbconvert_exporter": "python",
      "pygments_lexer": "ipython3",
      "version": "3.9.17"
    }
  },
  "nbformat": 4,
  "nbformat_minor": 0
}
