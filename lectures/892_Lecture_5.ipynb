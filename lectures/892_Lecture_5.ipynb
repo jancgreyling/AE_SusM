{
 "cells": [
  {
   "cell_type": "markdown",
   "metadata": {},
   "source": [
    "# Week 2: Git Basics, Introduction to Pandas & Python Functions\n",
    "\n",
    "## Part 1: Introduction to Git and Basic Commands on Google Colab\n",
    "\n",
    "### History of Git\n",
    "Git was created by Linus Torvalds in 2005 out of a need for a distributed version control system that could handle large projects and was not reliant on a central server.\n",
    "\n",
    "### Advantages of Git:\n",
    "1. **Distributed System**: Every user has a complete local copy of the repository, allowing for full functionality and history viewing even when offline.\n",
    "2. **Branching and Merging**: Git's branching and merging capabilities are swift and straightforward, promoting parallel development without conflicts.\n",
    "3. **Data Integrity**: Git uses a cryptographic method (SHA-1) to keep track of changes ensuring data integrity.\n",
    "4. **Speed**: Git operations are fast, optimizing performance.\n",
    "5. **Collaboration**: Git platforms like GitHub and GitLab provide tools for collaboration, code review, and issue tracking.\n",
    "6. **Open Source**: Git is free and open source.\n",
    "\n",
    "### Public vs. Private Repositories:\n",
    "- **Public Repositories**:\n",
    "  - Accessible to everyone.\n",
    "  - Anyone can clone, fork, or view the content, but not everyone can push changes unless given permission.\n",
    "  - Great for open-source projects where collaboration from the community is encouraged.\n",
    "- **Private Repositories**:\n",
    "  - Access is restricted to users who have been granted permission.\n",
    "  - Ideal for proprietary projects, sensitive information, or academic assignments where you don't want solutions to be publicly accessible.\n",
    "  - Platforms like GitHub offer private repositories even in their free tier."
   ]
  },
  {
   "cell_type": "markdown",
   "metadata": {},
   "source": [
    "### Understanding the Workings of Git and Introduction to GitHub**\n",
    "\n",
    "**Git Workflow:**\n",
    "- **Local Working Directory:** Where you work directly on files.\n",
    "- **Staging Area:** An intermediate area where commits can be formatted and reviewed before completing the commit.\n",
    "- **Local Repository:** Where commits are stored locally.\n",
    "- **Remote Repository:** A version of your project hosted on the internet or network.\n",
    "\n",
    "**Key Commands:**\n",
    "- `git init`: Initializes a new Git repository.\n",
    "- `git add`: Adds changes to the staging area.\n",
    "- `git commit`: Commits changes to the local repository.\n",
    "- `git push`: Pushes changes to a remote repository.\n",
    "- `git pull`: Pulls changes from a remote repository.\n",
    "- `git clone`: Clones a repository from a remote source."
   ]
  },
  {
   "cell_type": "markdown",
   "metadata": {},
   "source": [
    "\n",
    "### Running Git Commands in Google Colab\n",
    "In Google Colab, you can execute terminal commands by prefixing them with the \"!\" symbol. The `!` signifies that this is not a Python command, but a terminal command in the language `bash`. For Git commands, this is particularly useful. For example:\n",
    "\n",
    "```python\n",
    "!git clone <repository_url>\n",
    "```\n",
    "\n",
    "### Basic Git Bash Commands\n",
    "\n",
    "1. **Clone a Repository**: This command creates a copy of the repository on your local machine.\n",
    "```python\n",
    "!git clone <repository_url>\n",
    "```\n",
    "\n",
    "2. **Add Changes**: After making changes to your files, you need to add them to the staging area before committing.\n",
    "```python\n",
    "!git add .\n",
    "```\n",
    "\n",
    "3. **Commit Changes**: This saves your changes with a message describing what you did.\n",
    "```python\n",
    "!git commit -m \"Your descriptive commit message here\"\n",
    "```\n",
    "\n",
    "4. **Push Changes**: This uploads your committed changes to the remote repository.\n",
    "```python\n",
    "!git push origin master\n",
    "```"
   ]
  }
 ],
 "metadata": {
  "kernelspec": {
   "display_name": "ag_policy",
   "language": "python",
   "name": "python3"
  },
  "language_info": {
   "codemirror_mode": {
    "name": "ipython",
    "version": 3
   },
   "file_extension": ".py",
   "mimetype": "text/x-python",
   "name": "python",
   "nbconvert_exporter": "python",
   "pygments_lexer": "ipython3",
   "version": "3.9.17"
  },
  "orig_nbformat": 4
 },
 "nbformat": 4,
 "nbformat_minor": 2
}
