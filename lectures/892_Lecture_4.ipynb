{
 "cells": [
  {
   "cell_type": "markdown",
   "id": "0dd79410",
   "metadata": {},
   "source": [
    "# Week 4: Loops, Functions, Dictionaries and List Comprehension\n",
    "\n",
    "## Load the example data"
   ]
  },
  {
   "cell_type": "code",
   "execution_count": 189,
   "id": "62200e27",
   "metadata": {},
   "outputs": [],
   "source": [
    "# Importing the os module to get the current working directory\n",
    "import os\n",
    "os.getcwd()\n",
    "os.chdir('/Users/jancg/Library/CloudStorage/OneDrive-StellenboschUniversity/3_LE/3_Courses/AE_772_892')"
   ]
  },
  {
   "cell_type": "code",
   "execution_count": 190,
   "id": "093f3fe8",
   "metadata": {},
   "outputs": [
    {
     "name": "stdout",
     "output_type": "stream",
     "text": [
      "      Name  Age Occupation\n",
      "0    Alice   25   Engineer\n",
      "1      Bob   30     Doctor\n",
      "2  Charlie   35     Artist\n",
      "3    David   40     Lawyer\n",
      "4      Eva   45  Scientist\n"
     ]
    }
   ],
   "source": [
    "import pandas as pd\n",
    "# Load the example DataFrame\n",
    "df = pd.read_csv('data/raw/week4_example_dataset.csv')\n",
    "print(df)\n",
    "\n",
    "#replace spaces with '' in age column and make float\n",
    "df['age'] = df['age'].str.replace(' ', '').astype(float)\n"
   ]
  },
  {
   "cell_type": "markdown",
   "id": "c562a9f3",
   "metadata": {},
   "source": [
    "### What are loops, and How Do They Work?\n",
    "\n",
    "A `for` loop is a control flow statement that allows us to execute a block of code multiple times. The basic structure is, note the indentation:\n",
    "\n",
    "```python\n",
    "for element in iterable:\n",
    "    # code to execute\n",
    "```"
   ]
  },
  {
   "cell_type": "markdown",
   "id": "9fd20a3f",
   "metadata": {},
   "source": [
    "**Example 1: Basic For Loop**\n",
    "\n",
    "In this example, we use a basic `for` loop to iterate over the 'Name' column of our DataFrame. Inside the loop, we print a greeting for each name."
   ]
  },
  {
   "cell_type": "code",
   "execution_count": 191,
   "id": "7e4e0fbd",
   "metadata": {},
   "outputs": [
    {
     "name": "stdout",
     "output_type": "stream",
     "text": [
      "These are numbers in a range, 0\n",
      "These are numbers in a range, 1\n",
      "These are numbers in a range, 2\n",
      "These are numbers in a range, 3\n",
      "These are numbers in a range, 4\n",
      "\n",
      "These are numbers in a range, 1\n",
      "These are numbers in a range, 2\n",
      "These are numbers in a range, 3\n",
      "These are numbers in a range, 4\n",
      "\n",
      "These are numbers in a range, 0\n",
      "These are numbers in a range, 2\n",
      "These are numbers in a range, 4\n",
      "These are numbers in a range, 6\n",
      "These are numbers in a range, 8\n"
     ]
    }
   ],
   "source": [
    "for i in range(5):\n",
    "    print(f\"These are numbers in a range, {i}\")\n",
    "print(\"\")\n",
    "for i in range(1,5):\n",
    "    print(f\"These are numbers in a range, {i}\")\n",
    "print(\"\")\n",
    "for i in range(0,10,2):\n",
    "    print(f\"These are numbers in a range, {i}\")"
   ]
  },
  {
   "cell_type": "code",
   "execution_count": 192,
   "id": "aaea8bcf",
   "metadata": {},
   "outputs": [
    {
     "name": "stdout",
     "output_type": "stream",
     "text": [
      "Hello, Alice!\n",
      "Hello, Bob!\n",
      "Hello, Charlie!\n",
      "Hello, David!\n",
      "Hello, Eva!\n"
     ]
    }
   ],
   "source": [
    "# Example of a basic for loop to print names from the dataset\n",
    "for name in df['Name']:\n",
    "    print(f\"Hello, {name}!\")"
   ]
  },
  {
   "cell_type": "markdown",
   "id": "11d6af0a",
   "metadata": {},
   "source": [
    "#### Example 2: Nested For Loop\n",
    "\n",
    "In this example, we use a nested `for` loop: the outer loop iterates through names, and the inner loop iterates through each character of the current name. This demonstrates how loops can be nested within each other for more complex operations."
   ]
  },
  {
   "cell_type": "code",
   "execution_count": 193,
   "id": "fd9f3be7",
   "metadata": {},
   "outputs": [
    {
     "name": "stdout",
     "output_type": "stream",
     "text": [
      "Name: Alice\n",
      "  Character: A\n",
      "  Character: l\n",
      "  Character: i\n",
      "  Character: c\n",
      "  Character: e\n",
      "Name: Bob\n",
      "  Character: B\n",
      "  Character: o\n",
      "  Character: b\n",
      "Name: Charlie\n",
      "  Character: C\n",
      "  Character: h\n",
      "  Character: a\n",
      "  Character: r\n",
      "  Character: l\n",
      "  Character: i\n",
      "  Character: e\n",
      "Name: David\n",
      "  Character: D\n",
      "  Character: a\n",
      "  Character: v\n",
      "  Character: i\n",
      "  Character: d\n",
      "Name: Eva\n",
      "  Character: E\n",
      "  Character: v\n",
      "  Character: a\n"
     ]
    }
   ],
   "source": [
    "# Example of a nested for loop to print each character of each name\n",
    "for name in df['Name']:\n",
    "    print(f\"Name: {name}\")\n",
    "    for char in name:\n",
    "        print(f\"  Character: {char}\")"
   ]
  },
  {
   "cell_type": "markdown",
   "id": "609b1ab2",
   "metadata": {},
   "source": [
    "## Introduction to Functions"
   ]
  },
  {
   "cell_type": "markdown",
   "id": "306ba33d",
   "metadata": {},
   "source": [
    "### Basics of Functions\n",
    "\n",
    "Functions in Python are a way to encapsulate a block of code so that it can be reused and organized more effectively. They serve as \"mini-programs\" within a larger program, performing specific tasks. Functions are crucial in making code more modular, maintainable, and testable.\n",
    "\n",
    "### Anatomy of a Function\n",
    "A function in Python is defined using the `def` keyword, followed by the function name, parentheses, and a colon. The code block inside the function is indented. The function may take zero or more parameters as input and optionally return an output.\n",
    "\n",
    "Here is a simple function definition - note the indentation:\n",
    "\n",
    "```python\n",
    "def greet(name):\n",
    "    return f\"Hello, {name}!\"\n",
    "```\n",
    "\n",
    "- `def` starts the function definition.\n",
    "- `greet` is the function name.\n",
    "- `name` is a parameter that the function accepts.\n",
    "- The `return` statement specifies what the function outputs.\n",
    "\n",
    "### Calling a Function\n",
    "To execute a function, you \"call\" it by using its name followed by parentheses, inside which you can place any arguments that the function expects:\n",
    "\n",
    "```python\n",
    "result = greet(\"Alice\")\n",
    "```\n",
    "\n",
    "In this example, the `greet` function is called with the argument \"Alice\", and the returned string \"Hello, Alice!\" is stored in the variable `result`.\n",
    "\n",
    "### Parameters and Arguments\n",
    "- Parameters are variables listed inside the parentheses in the function definition.\n",
    "- Arguments are values that are sent to the function when it is called.\n",
    "\n",
    "### Function Scope\n",
    "Variables defined within a function are local to that function and cannot be accessed outside of it. However, functions can access variables defined in their containing scope.\n",
    "\n",
    "### Types of Functions\n",
    "1. **Built-in Functions**: Python comes with many built-in functions like `print()`, `len()`, `type()`, etc.\n",
    "2. **User-defined Functions**: Functions defined by the users themselves.\n",
    "3. **Anonymous Functions**: Also known as lambda functions, they are defined using the `lambda` keyword.\n",
    "  \n",
    "### Function with Multiple Parameters and Default Values\n",
    "You can define a function with multiple parameters and even set default values for them:\n",
    "\n",
    "```python\n",
    "def greet(name, greeting=\"Hello\"):\n",
    "    return f\"{greeting}, {name}!\"\n",
    "\n",
    "greet(\"Alice\") # Prints \"Hello, Alice!\"\n",
    "greet(\"Alice\", \"Hi\") # Prints \"Hi, Alice!\"\n",
    "```\n",
    "\n",
    "Here, `greeting` has a default value of \"Hello\".\n",
    "\n",
    "### Returning Multiple Values\n",
    "A function can return multiple values as a tuple or another collection type:\n",
    "\n",
    "```python\n",
    "def min_max(numbers):\n",
    "    return min(numbers), max(numbers)\n",
    "\n",
    "min_max([1, 2, 3, 4, 5]) # Returns (1, 5)\n",
    "```\n",
    "\n",
    "### Docstrings\n",
    "It's a good practice to include a documentation string (docstring) to describe what the function does:\n",
    "\n",
    "```python\n",
    "def greet(name):\n",
    "    \"\"\"This function greets the person passed in as a parameter.\"\"\"\n",
    "    return f\"Hello, {name}!\"\n",
    "\n",
    "greet(\"Alice\") # Prints \"Hello, Alice!\"\n",
    "```"
   ]
  },
  {
   "cell_type": "markdown",
   "id": "1e376633",
   "metadata": {},
   "source": [
    "Functions can also return items defined in the function, such as variables, lists, dictionaries, etc. Lets apply a function to the example data:"
   ]
  },
  {
   "cell_type": "code",
   "execution_count": 194,
   "id": "a1a1fe24",
   "metadata": {},
   "outputs": [
    {
     "data": {
      "text/html": [
       "<div>\n",
       "<style scoped>\n",
       "    .dataframe tbody tr th:only-of-type {\n",
       "        vertical-align: middle;\n",
       "    }\n",
       "\n",
       "    .dataframe tbody tr th {\n",
       "        vertical-align: top;\n",
       "    }\n",
       "\n",
       "    .dataframe thead th {\n",
       "        text-align: right;\n",
       "    }\n",
       "</style>\n",
       "<table border=\"1\" class=\"dataframe\">\n",
       "  <thead>\n",
       "    <tr style=\"text-align: right;\">\n",
       "      <th></th>\n",
       "      <th>Name</th>\n",
       "      <th>Age</th>\n",
       "      <th>Occupation</th>\n",
       "    </tr>\n",
       "  </thead>\n",
       "  <tbody>\n",
       "    <tr>\n",
       "      <th>1</th>\n",
       "      <td>Bob</td>\n",
       "      <td>30</td>\n",
       "      <td>Doctor</td>\n",
       "    </tr>\n",
       "    <tr>\n",
       "      <th>2</th>\n",
       "      <td>Charlie</td>\n",
       "      <td>35</td>\n",
       "      <td>Artist</td>\n",
       "    </tr>\n",
       "    <tr>\n",
       "      <th>3</th>\n",
       "      <td>David</td>\n",
       "      <td>40</td>\n",
       "      <td>Lawyer</td>\n",
       "    </tr>\n",
       "  </tbody>\n",
       "</table>\n",
       "</div>"
      ],
      "text/plain": [
       "      Name  Age Occupation\n",
       "1      Bob   30     Doctor\n",
       "2  Charlie   35     Artist\n",
       "3    David   40     Lawyer"
      ]
     },
     "execution_count": 194,
     "metadata": {},
     "output_type": "execute_result"
    }
   ],
   "source": [
    "def filter_by_age(df,var,min_age, max_age):\n",
    "    \n",
    "    df_filter = df[(df[var] >= min_age) & (df[var] <= max_age)]\n",
    "\n",
    "    return df_filter\n",
    "\n",
    "# Apply the function to the example dataset\n",
    "filter_by_age(df,'Age',30, 40)\n"
   ]
  },
  {
   "cell_type": "markdown",
   "id": "2bc732fd",
   "metadata": {},
   "source": [
    "You have the option to specify the function components by position, but its safer to specify them explicitly, like this:"
   ]
  },
  {
   "cell_type": "code",
   "execution_count": 195,
   "id": "1496abf4",
   "metadata": {},
   "outputs": [
    {
     "data": {
      "text/html": [
       "<div>\n",
       "<style scoped>\n",
       "    .dataframe tbody tr th:only-of-type {\n",
       "        vertical-align: middle;\n",
       "    }\n",
       "\n",
       "    .dataframe tbody tr th {\n",
       "        vertical-align: top;\n",
       "    }\n",
       "\n",
       "    .dataframe thead th {\n",
       "        text-align: right;\n",
       "    }\n",
       "</style>\n",
       "<table border=\"1\" class=\"dataframe\">\n",
       "  <thead>\n",
       "    <tr style=\"text-align: right;\">\n",
       "      <th></th>\n",
       "      <th>Name</th>\n",
       "      <th>Age</th>\n",
       "      <th>Occupation</th>\n",
       "    </tr>\n",
       "  </thead>\n",
       "  <tbody>\n",
       "    <tr>\n",
       "      <th>1</th>\n",
       "      <td>Bob</td>\n",
       "      <td>30</td>\n",
       "      <td>Doctor</td>\n",
       "    </tr>\n",
       "    <tr>\n",
       "      <th>2</th>\n",
       "      <td>Charlie</td>\n",
       "      <td>35</td>\n",
       "      <td>Artist</td>\n",
       "    </tr>\n",
       "    <tr>\n",
       "      <th>3</th>\n",
       "      <td>David</td>\n",
       "      <td>40</td>\n",
       "      <td>Lawyer</td>\n",
       "    </tr>\n",
       "  </tbody>\n",
       "</table>\n",
       "</div>"
      ],
      "text/plain": [
       "      Name  Age Occupation\n",
       "1      Bob   30     Doctor\n",
       "2  Charlie   35     Artist\n",
       "3    David   40     Lawyer"
      ]
     },
     "execution_count": 195,
     "metadata": {},
     "output_type": "execute_result"
    }
   ],
   "source": [
    "filter_by_age(df,var = 'Age',min_age = 30, max_age = 40)"
   ]
  },
  {
   "cell_type": "markdown",
   "id": "60e1694c",
   "metadata": {},
   "source": [
    "## Introduction to Lambda Functions"
   ]
  },
  {
   "cell_type": "markdown",
   "id": "061f7c89",
   "metadata": {},
   "source": [
    "### Basics of Lambda Functions\n",
    "\n",
    "Lambda functions are often used for quick, inline operations on DataFrames. They are defined using the `lambda` keyword. Lambda functions can take any number of arguments, but they can only have one expression. They are often used with the apply method. \n",
    "\n",
    "The `apply` function is often associated with data manipulation in Python, particularly when working with the `pandas` library. It's used for applying a function along the axis of a DataFrame (either rows or columns) or to elements in a Series. The `apply` function is highly flexible and can be used for a variety of data transformation tasks.\n",
    "\n",
    "### Basic Syntax\n",
    "\n",
    "```python\n",
    "DataFrame.apply(func, axis=0, raw=False, result_type=None, args=(), **kwds)\n",
    "```\n",
    "\n",
    "- `func`: The function to apply.\n",
    "- `axis`: Axis along which the function is applied. `0` for applying function to each column, and `1` for applying function to each row.\n",
    "- `raw`: Determines if the function should receive ndarray objects instead of Series.\n",
    "- `result_type`: Control the type of output (like `expand`, `reduce`, `broadcast`, or `None`).\n",
    "- `args`: Tuple, positional arguments to pass to the function.\n",
    "\n",
    "### Use-cases\n",
    "\n",
    "1. **Data Transformation**: Apply complex calculations to data.\n",
    "2. **Aggregation**: Aggregate data according to some criteria.\n",
    "3. **Cleaning**: Apply cleaning operations to data, like filling `NaN` values or converting types.\n",
    "\n",
    "### Limitations\n",
    "\n",
    "- **Performance**: Applying operations row-wise can be computationally expensive.\n",
    "- **Debugging**: Errors can be harder to debug because you're applying a function in a single line of code.\n",
    "\n",
    "### Alternatives\n",
    "\n",
    "- Vectorized operations: Faster but not always possible.\n",
    "- `applymap()` for element-wise operations on a DataFrame.\n",
    "- `map()` for element-wise operations on a Series."
   ]
  },
  {
   "cell_type": "markdown",
   "id": "0a386e1d",
   "metadata": {},
   "source": [
    "### How to Use Them"
   ]
  },
  {
   "cell_type": "code",
   "execution_count": 196,
   "id": "75a031d1",
   "metadata": {},
   "outputs": [
    {
     "name": "stdout",
     "output_type": "stream",
     "text": [
      "      Name  Age Occupation  Age_squared\n",
      "0    Alice   25   Engineer          625\n",
      "1      Bob   30     Doctor          900\n",
      "2  Charlie   35     Artist         1225\n",
      "3    David   40     Lawyer         1600\n",
      "4      Eva   45  Scientist         2025\n",
      "\n",
      "[35, 40, 45]\n",
      "\n",
      "      Name  Age Occupation  Age_squared  Name_length\n",
      "0    Alice   25   Engineer          625            5\n",
      "1      Bob   30     Doctor          900            3\n",
      "2  Charlie   35     Artist         1225            7\n",
      "3    David   40     Lawyer         1600            5\n",
      "4      Eva   45  Scientist         2025            3\n"
     ]
    }
   ],
   "source": [
    "# Example 1: Using lambda to square the 'Age' column\n",
    "df['Age_squared'] = df['Age'].apply(lambda x: x ** 2)\n",
    "print(df)\n",
    "print(\"\")\n",
    "# Example 2: Using lambda with `filter` to get Names of people older than 30\n",
    "older_than_30 = list(filter(lambda x: x > 30, df['Age']))\n",
    "print(older_than_30)\n",
    "print(\"\")\n",
    "# Example 3: Using lambda to create a new column with length of names\n",
    "df['Name_length'] = df['Name'].apply(lambda x: len(x))\n",
    "print(df)"
   ]
  },
  {
   "cell_type": "markdown",
   "id": "e0ea7835",
   "metadata": {},
   "source": [
    "## Introduction to Dictionaries"
   ]
  },
  {
   "cell_type": "markdown",
   "id": "34696f30",
   "metadata": {},
   "source": [
    "### Basics of Dictionaries in the Context of DataFrames\n",
    "\n",
    "Dictionaries in Python are a collection of key-value pairs enclosed in curly braces (`{}`). In the context of DataFrames, which are a core part of the `pandas` library, dictionaries are frequently used for various tasks like renaming columns, mapping values, aggregating data, and more.\n",
    "\n",
    "#### Syntax of Dictionaries\n",
    "\n",
    "The basic syntax for a dictionary is:\n",
    "\n",
    "```python\n",
    "my_dict = {'key1': 'value1', 'key2': 'value2', 'key3': 'value3'}\n",
    "```\n",
    "\n",
    "Here, `'key1', 'key2', 'key3'` are the keys, and `'value1', 'value2', 'value3'` are their corresponding values. Keys must be unique and immutable (often strings, numbers, or tuples), while values can be of any data type.\n",
    "\n",
    "#### Renaming Columns\n",
    "\n",
    "You can use dictionaries to rename the columns of a DataFrame. The keys in the dictionary are the current column names, and the corresponding values are the new names you want to set."
   ]
  },
  {
   "cell_type": "code",
   "execution_count": 197,
   "id": "84ff8f99",
   "metadata": {},
   "outputs": [
    {
     "name": "stdout",
     "output_type": "stream",
     "text": [
      "   X  Y\n",
      "0  1  4\n",
      "1  2  5\n",
      "2  3  6\n"
     ]
    }
   ],
   "source": [
    "# Create a DataFrame\n",
    "df3 = pd.DataFrame({'A': [1, 2, 3], 'B': [4, 5, 6]})\n",
    "\n",
    "# Rename columns\n",
    "rename_dict = {'A': 'X', 'B': 'Y'}\n",
    "df3.rename(columns=rename_dict, inplace=True)\n",
    "\n",
    "print(df3)"
   ]
  },
  {
   "cell_type": "markdown",
   "id": "319660fa",
   "metadata": {},
   "source": [
    "\n",
    "\n",
    "#### Mapping Values\n",
    "\n",
    "You can use a dictionary to map existing values in a column to new values. This is particularly useful for categorical data.\n"
   ]
  },
  {
   "cell_type": "code",
   "execution_count": 198,
   "id": "d426ce09",
   "metadata": {},
   "outputs": [
    {
     "name": "stdout",
     "output_type": "stream",
     "text": [
      "  Grade  Numeric_Grade\n",
      "0     A              4\n",
      "1     B              3\n",
      "2     C              2\n",
      "3     D              1\n"
     ]
    }
   ],
   "source": [
    "# Create a DataFrame\n",
    "df2 = pd.DataFrame({'Grade': ['A', 'B', 'C', 'D']})\n",
    "\n",
    "# Create mapping dictionary\n",
    "grade_mapping = {'A': 4, 'B': 3, 'C': 2, 'D': 1}\n",
    "\n",
    "# Map values\n",
    "df2['Numeric_Grade'] = df2['Grade'].map(grade_mapping)\n",
    "\n",
    "print(df2)"
   ]
  },
  {
   "cell_type": "code",
   "execution_count": 199,
   "id": "2f77fa48",
   "metadata": {},
   "outputs": [
    {
     "name": "stdout",
     "output_type": "stream",
     "text": [
      "          Price     \n",
      "           mean  sum\n",
      "Category            \n",
      "Fruit      0.75  1.5\n",
      "Vegetable  1.00  2.0\n"
     ]
    }
   ],
   "source": [
    "# Create a DataFrame\n",
    "df0 = pd.DataFrame({\n",
    "    'Category': ['Fruit', 'Vegetable', 'Fruit', 'Vegetable'],\n",
    "    'Item': ['Apple', 'Carrot', 'Banana', 'Broccoli'],\n",
    "    'Price': [1, 0.8, 0.5, 1.2]\n",
    "})\n",
    "\n",
    "# Aggregation rules\n",
    "agg_rules = {\n",
    "    'Price': ['mean', 'sum']\n",
    "}\n",
    "\n",
    "# Group and aggregate\n",
    "grouped_df = df0.groupby('Category').agg(agg_rules)\n",
    "\n",
    "print(grouped_df)"
   ]
  },
  {
   "cell_type": "markdown",
   "id": "8c7a5936",
   "metadata": {},
   "source": [
    "In this example, the dictionary `agg_rules` specifies that we want to find the mean and sum of the 'Price' for each 'Category'.\n",
    "\n",
    "#### Replacing Values\n",
    "\n",
    "You can use dictionaries to replace values in a DataFrame with other values."
   ]
  },
  {
   "cell_type": "code",
   "execution_count": 200,
   "id": "5b13fce6",
   "metadata": {},
   "outputs": [
    {
     "name": "stdout",
     "output_type": "stream",
     "text": [
      "  col1   col2\n",
      "0  one  alpha\n",
      "1  two   beta\n",
      "2    3      c\n"
     ]
    }
   ],
   "source": [
    "# Create a DataFrame\n",
    "df1 = pd.DataFrame({'col1': [1, 2, 3], 'col2': ['a', 'b', 'c']})\n",
    "\n",
    "# Replacement dictionary\n",
    "replace_dict = {1: 'one', 2: 'two', 'a': 'alpha', 'b': 'beta'}\n",
    "\n",
    "# Replace values\n",
    "df1.replace(replace_dict, inplace=True)\n",
    "\n",
    "print(df1)"
   ]
  },
  {
   "cell_type": "markdown",
   "id": "03b647e4",
   "metadata": {},
   "source": [
    "\n",
    "\n",
    "Using dictionaries in the context of DataFrames allows for efficient and readable code. Whether you're renaming columns, mapping values, or aggregating data, dictionaries provide a versatile way to manage your DataFrame transformations."
   ]
  },
  {
   "cell_type": "markdown",
   "id": "cb141171",
   "metadata": {},
   "source": [
    "### Creating and Manipulating Dictionaries"
   ]
  },
  {
   "cell_type": "code",
   "execution_count": 201,
   "id": "dbaffbc9",
   "metadata": {},
   "outputs": [
    {
     "name": "stdout",
     "output_type": "stream",
     "text": [
      "  Full Name  Age in Years Occupation  Age_squared  Name_length\n",
      "0     Alice            25   Engineer          625            5\n",
      "1       Bob            30     Doctor          900            3\n",
      "2   Charlie            35     Artist         1225            7\n",
      "3     David            40     Lawyer         1600            5\n",
      "4       Eva            45  Scientist         2025            3\n"
     ]
    }
   ],
   "source": [
    "# Example 1: Renaming columns using a dictionary\n",
    "df = df.rename(columns={'Name': 'Full Name', 'Age': 'Age in Years'})\n",
    "print(df)"
   ]
  },
  {
   "cell_type": "code",
   "execution_count": 202,
   "id": "836b312c",
   "metadata": {},
   "outputs": [
    {
     "name": "stdout",
     "output_type": "stream",
     "text": [
      "  Full Name  Age in Years           Occupation  Age_squared  Name_length\n",
      "0     Alice            25  Mechanical Engineer          625            5\n",
      "1       Bob            30            Physician          900            3\n",
      "2   Charlie            35               Artist         1225            7\n",
      "3     David            40               Lawyer         1600            5\n",
      "4       Eva            45            Scientist         2025            3\n"
     ]
    }
   ],
   "source": [
    "# Example 2: Replacing values using a dictionary\n",
    "df['Occupation'].replace({'Engineer': 'Mechanical Engineer', 'Doctor': 'Physician'}, inplace=True)\n",
    "print(df)"
   ]
  },
  {
   "cell_type": "code",
   "execution_count": 203,
   "id": "9177fc71",
   "metadata": {},
   "outputs": [
    {
     "name": "stdout",
     "output_type": "stream",
     "text": [
      "      Age in Years\n",
      "sum          175.0\n",
      "mean          35.0\n"
     ]
    }
   ],
   "source": [
    "# Example 3: Aggregating using a dictionary\n",
    "agg_rules = {'Age in Years': ['sum','mean']}\n",
    "result = df.agg(agg_rules)\n",
    "print(result)"
   ]
  },
  {
   "cell_type": "markdown",
   "id": "7e88d397",
   "metadata": {},
   "source": [
    "## Introduction to List Comprehension"
   ]
  },
  {
   "cell_type": "markdown",
   "id": "753015f1",
   "metadata": {},
   "source": [
    "### Basics of List Comprehension\n",
    "\n",
    "List comprehension is a powerful feature in Python that allows for a concise and readable way to create lists. It's often used in data manipulation tasks, including when working with pandas DataFrames. Essentially, list comprehensions let you create a new list by applying an expression to each element in an existing collection (or satisfying some condition).\n",
    "\n",
    "#### Basic Syntax\n",
    "\n",
    "The basic syntax of a list comprehension looks like this:\n",
    "\n",
    "```python\n",
    "[expression for item in iterable]\n",
    "```\n",
    "\n",
    "- `expression`: The value you want to include in the new list.\n",
    "- `item`: A variable that takes the value of each element in the iterable.\n",
    "- `iterable`: The collection you are iterating over.\n",
    "\n",
    "#### Simple Example\n",
    "\n",
    "For example, to create a list of the squares of numbers from 0 to 9, you can use:"
   ]
  },
  {
   "cell_type": "code",
   "execution_count": 204,
   "id": "c64fdb36",
   "metadata": {},
   "outputs": [
    {
     "data": {
      "text/plain": [
       "[0, 1, 4, 9, 16, 25, 36, 49, 64, 81]"
      ]
     },
     "execution_count": 204,
     "metadata": {},
     "output_type": "execute_result"
    }
   ],
   "source": [
    "squares = [x**2 for x in range(10)]\n",
    "squares"
   ]
  },
  {
   "cell_type": "markdown",
   "id": "e4c93bc8",
   "metadata": {},
   "source": [
    "#### Conditional Statements"
   ]
  },
  {
   "cell_type": "code",
   "execution_count": 205,
   "id": "8f85b77c",
   "metadata": {},
   "outputs": [
    {
     "data": {
      "text/plain": [
       "[36, 49, 64, 81]"
      ]
     },
     "execution_count": 205,
     "metadata": {},
     "output_type": "execute_result"
    }
   ],
   "source": [
    "even_squares = [x**2 for x in range(10) if x > 5]\n",
    "even_squares"
   ]
  },
  {
   "cell_type": "markdown",
   "id": "d3c1f671",
   "metadata": {},
   "source": [
    "Here we calculate the squares of the numbers in the range greater than 5."
   ]
  },
  {
   "cell_type": "markdown",
   "id": "e022f49a",
   "metadata": {},
   "source": [
    "### When and How to Use It"
   ]
  },
  {
   "cell_type": "code",
   "execution_count": 206,
   "id": "07e978cc",
   "metadata": {},
   "outputs": [
    {
     "name": "stdout",
     "output_type": "stream",
     "text": [
      "['ALICE', 'BOB', 'CHARLIE', 'DAVID', 'EVA']\n"
     ]
    }
   ],
   "source": [
    "# Example 1: Creating a new list of names in uppercase\n",
    "upper_names = [name.upper() for name in df['Full Name']]\n",
    "print(upper_names)"
   ]
  },
  {
   "cell_type": "code",
   "execution_count": 207,
   "id": "2a113310",
   "metadata": {},
   "outputs": [
    {
     "name": "stdout",
     "output_type": "stream",
     "text": [
      "  Full Name  Age in Years           Occupation  Age_squared  Name_length  \\\n",
      "0     Alice            25  Mechanical Engineer          625            5   \n",
      "1       Bob            30            Physician          900            3   \n",
      "2   Charlie            35               Artist         1225            7   \n",
      "3     David            40               Lawyer         1600            5   \n",
      "4       Eva            45            Scientist         2025            3   \n",
      "\n",
      "  Is_Elderly  \n",
      "0         No  \n",
      "1         No  \n",
      "2         No  \n",
      "3         No  \n",
      "4        Yes  \n"
     ]
    }
   ],
   "source": [
    "# Example 2: Creating a new DataFrame column using list comprehension\n",
    "df['Is_Elderly'] = ['Yes' if age > 40 else 'No' for age in df['Age in Years']]\n",
    "print(df)"
   ]
  },
  {
   "cell_type": "code",
   "execution_count": 208,
   "id": "2f096cf6",
   "metadata": {},
   "outputs": [
    {
     "name": "stdout",
     "output_type": "stream",
     "text": [
      "  Full Name  Age in Years           Occupation  Age_squared  Name_length  \\\n",
      "0     Alice            25  Mechanical Engineer          625            5   \n",
      "1       Bob            30            Physician          900            3   \n",
      "2   Charlie            35               Artist         1225            7   \n",
      "3     David            40               Lawyer         1600            5   \n",
      "4       Eva            45            Scientist         2025            3   \n",
      "\n",
      "  Is_Elderly   Life_Stage  \n",
      "0         No        Young  \n",
      "1         No  Middle-aged  \n",
      "2         No  Middle-aged  \n",
      "3         No  Middle-aged  \n",
      "4        Yes  Middle-aged  \n"
     ]
    }
   ],
   "source": [
    "# Example 3: Using list comprehension with multiple conditions\n",
    "df['Life_Stage'] = ['Young' if age < 30 else 'Middle-aged' if age < 50 else 'Old' for age in df['Age in Years']]\n",
    "print(df)"
   ]
  },
  {
   "cell_type": "markdown",
   "id": "7c2c8dc8",
   "metadata": {},
   "source": [
    "## Merging and Joining Data"
   ]
  },
  {
   "cell_type": "markdown",
   "id": "7e554caa",
   "metadata": {},
   "source": [
    "### Basics of Joining Data\n",
    "\n",
    "Pandas provides various ways to combine DataFrames including `.merge()` for database-style joins."
   ]
  },
  {
   "cell_type": "code",
   "execution_count": 209,
   "id": "0de5254f",
   "metadata": {},
   "outputs": [
    {
     "data": {
      "text/html": [
       "<div>\n",
       "<style scoped>\n",
       "    .dataframe tbody tr th:only-of-type {\n",
       "        vertical-align: middle;\n",
       "    }\n",
       "\n",
       "    .dataframe tbody tr th {\n",
       "        vertical-align: top;\n",
       "    }\n",
       "\n",
       "    .dataframe thead th {\n",
       "        text-align: right;\n",
       "    }\n",
       "</style>\n",
       "<table border=\"1\" class=\"dataframe\">\n",
       "  <thead>\n",
       "    <tr style=\"text-align: right;\">\n",
       "      <th></th>\n",
       "      <th>Full Name</th>\n",
       "      <th>Age in Years</th>\n",
       "      <th>Occupation</th>\n",
       "      <th>Age_squared</th>\n",
       "      <th>Name_length</th>\n",
       "      <th>Is_Elderly</th>\n",
       "      <th>Life_Stage</th>\n",
       "    </tr>\n",
       "  </thead>\n",
       "  <tbody>\n",
       "    <tr>\n",
       "      <th>0</th>\n",
       "      <td>Alice</td>\n",
       "      <td>25</td>\n",
       "      <td>Mechanical Engineer</td>\n",
       "      <td>625</td>\n",
       "      <td>5</td>\n",
       "      <td>No</td>\n",
       "      <td>Young</td>\n",
       "    </tr>\n",
       "    <tr>\n",
       "      <th>1</th>\n",
       "      <td>Bob</td>\n",
       "      <td>30</td>\n",
       "      <td>Physician</td>\n",
       "      <td>900</td>\n",
       "      <td>3</td>\n",
       "      <td>No</td>\n",
       "      <td>Middle-aged</td>\n",
       "    </tr>\n",
       "    <tr>\n",
       "      <th>2</th>\n",
       "      <td>Charlie</td>\n",
       "      <td>35</td>\n",
       "      <td>Artist</td>\n",
       "      <td>1225</td>\n",
       "      <td>7</td>\n",
       "      <td>No</td>\n",
       "      <td>Middle-aged</td>\n",
       "    </tr>\n",
       "    <tr>\n",
       "      <th>3</th>\n",
       "      <td>David</td>\n",
       "      <td>40</td>\n",
       "      <td>Lawyer</td>\n",
       "      <td>1600</td>\n",
       "      <td>5</td>\n",
       "      <td>No</td>\n",
       "      <td>Middle-aged</td>\n",
       "    </tr>\n",
       "    <tr>\n",
       "      <th>4</th>\n",
       "      <td>Eva</td>\n",
       "      <td>45</td>\n",
       "      <td>Scientist</td>\n",
       "      <td>2025</td>\n",
       "      <td>3</td>\n",
       "      <td>Yes</td>\n",
       "      <td>Middle-aged</td>\n",
       "    </tr>\n",
       "  </tbody>\n",
       "</table>\n",
       "</div>"
      ],
      "text/plain": [
       "  Full Name  Age in Years           Occupation  Age_squared  Name_length  \\\n",
       "0     Alice            25  Mechanical Engineer          625            5   \n",
       "1       Bob            30            Physician          900            3   \n",
       "2   Charlie            35               Artist         1225            7   \n",
       "3     David            40               Lawyer         1600            5   \n",
       "4       Eva            45            Scientist         2025            3   \n",
       "\n",
       "  Is_Elderly   Life_Stage  \n",
       "0         No        Young  \n",
       "1         No  Middle-aged  \n",
       "2         No  Middle-aged  \n",
       "3         No  Middle-aged  \n",
       "4        Yes  Middle-aged  "
      ]
     },
     "execution_count": 209,
     "metadata": {},
     "output_type": "execute_result"
    }
   ],
   "source": [
    "df"
   ]
  },
  {
   "cell_type": "code",
   "execution_count": 210,
   "id": "87e58e70",
   "metadata": {},
   "outputs": [
    {
     "name": "stdout",
     "output_type": "stream",
     "text": [
      "  Full Name  Age in Years           Occupation  Age_squared  Name_length  \\\n",
      "0     Alice            25  Mechanical Engineer          625            5   \n",
      "1       Bob            30            Physician          900            3   \n",
      "\n",
      "  Is_Elderly   Life_Stage  Salary  \n",
      "0         No        Young   50000  \n",
      "1         No  Middle-aged   60000  \n"
     ]
    }
   ],
   "source": [
    "# Example 1: Creating another DataFrame to join with the original\n",
    "data2 = {'Full Name': ['Alice', 'Bob'], 'Salary': [50000, 60000]}\n",
    "df_add = pd.DataFrame(data2)\n",
    "\n",
    "# Merging the two DataFrames on 'Full Name'\n",
    "merged_df = pd.merge(df, df_add, on='Full Name',how = 'inner')\n",
    "print(merged_df)"
   ]
  },
  {
   "cell_type": "code",
   "execution_count": 211,
   "id": "4bc7bee3",
   "metadata": {},
   "outputs": [
    {
     "name": "stdout",
     "output_type": "stream",
     "text": [
      "  Full Name  Age in Years           Occupation  Age_squared  Name_length  \\\n",
      "0     Alice            25  Mechanical Engineer          625            5   \n",
      "1       Bob            30            Physician          900            3   \n",
      "2   Charlie            35               Artist         1225            7   \n",
      "3     David            40               Lawyer         1600            5   \n",
      "4       Eva            45            Scientist         2025            3   \n",
      "\n",
      "  Is_Elderly   Life_Stage   Salary  \n",
      "0         No        Young  50000.0  \n",
      "1         No  Middle-aged  60000.0  \n",
      "2         No  Middle-aged      NaN  \n",
      "3         No  Middle-aged      NaN  \n",
      "4        Yes  Middle-aged      NaN  \n"
     ]
    }
   ],
   "source": [
    "# Example 2: Left join\n",
    "left_joined_df = pd.merge(df, df_add, on='Full Name', how='left')\n",
    "print(left_joined_df)"
   ]
  },
  {
   "cell_type": "code",
   "execution_count": 212,
   "id": "5b635baa",
   "metadata": {},
   "outputs": [
    {
     "name": "stdout",
     "output_type": "stream",
     "text": [
      "  Full Name  Age in Years           Occupation  Age_squared  Name_length  \\\n",
      "0     Alice            25  Mechanical Engineer          625            5   \n",
      "1       Bob            30            Physician          900            3   \n",
      "2   Charlie            35               Artist         1225            7   \n",
      "3     David            40               Lawyer         1600            5   \n",
      "4       Eva            45            Scientist         2025            3   \n",
      "\n",
      "  Is_Elderly   Life_Stage   Salary  \n",
      "0         No        Young  50000.0  \n",
      "1         No  Middle-aged  60000.0  \n",
      "2         No  Middle-aged      NaN  \n",
      "3         No  Middle-aged      NaN  \n",
      "4        Yes  Middle-aged      NaN  \n"
     ]
    }
   ],
   "source": [
    "# Example 3: Outer join\n",
    "outer_joined_df = pd.merge(df, df_add, on='Full Name', how='outer')\n",
    "print(outer_joined_df)"
   ]
  },
  {
   "cell_type": "markdown",
   "id": "a496558d",
   "metadata": {},
   "source": [
    "# Tutorial 4\n",
    "\n",
    "First\n",
    "- Use your `setup.ipynb` to pull the latest version of the class repo\n",
    "- Then create a notebook for this tutorial and rename it to  to \\<your_name>\\<Lecture_4_Tutorial>\n",
    "- Share with me: jan5020@gmail.com\n",
    "\n",
    "Then do the following\n",
    "- import the SA_maize data and call it df_mz\n",
    "- import the SA_soybean data and call it df_sb\n",
    "\n",
    "Now do the following\n",
    "- Using loops \n",
    "    - use a loop to add \"mz_\" to all the column names in df_mz except for the first column\n",
    "    - use a loop to add \"sb_\" to all the column names in df_sb except for the first column\n",
    "- Using applying functions\n",
    "    - create a function to fix remove the spaces in the numerical columns and convert them to floats\n",
    "    - Apply it to the df_mz and df_sb\n",
    "- Using lambda functions\n",
    "    - calculate the average maize and soybean yield using lambda functions\n",
    "- Using list comprehension\n",
    "    - Use list comprehension to check if the white maize price is higher then the yellow maize price and create a new column called white_higher. Use boolean values for this column.\n",
    "- Using dictionaries\n",
    "    - create a dictionary to rename the columns in df_mz to the following: \n",
    "        - mz_area_planted: mz_arp\n",
    "        - mz_production: mz_prod\n",
    "        - sb_area_planted: sb_arp\n",
    "        - sb_production: sb_prod\n",
    "- Merging two dataframes\n",
    "    - Using the prod_year column as the key, join the two dataframes together with an outer join and call it df\n",
    "- Plotting\n",
    "    - Plot the average maize and soybean yield using a line plot\n",
    "\n",
    "\n"
   ]
  }
 ],
 "metadata": {
  "kernelspec": {
   "display_name": "Python 3",
   "language": "python",
   "name": "python3"
  },
  "language_info": {
   "codemirror_mode": {
    "name": "ipython",
    "version": 3
   },
   "file_extension": ".py",
   "mimetype": "text/x-python",
   "name": "python",
   "nbconvert_exporter": "python",
   "pygments_lexer": "ipython3",
   "version": "3.9.17"
  }
 },
 "nbformat": 4,
 "nbformat_minor": 5
}
